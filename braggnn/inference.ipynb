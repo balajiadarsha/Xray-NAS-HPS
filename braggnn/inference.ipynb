{
 "cells": [
  {
   "cell_type": "code",
   "execution_count": 1,
   "id": "familiar-burden",
   "metadata": {},
   "outputs": [],
   "source": [
    "import numpy as np\n",
    "from matplotlib import markers\n",
    "from matplotlib import pyplot as plt\n",
    "import torch\n",
    "from torch.utils.data import DataLoader\n",
    "from dataset import BraggNNDataset\n",
    "import numpy as np\n",
    "from torchsummary import summary\n",
    "import random as rm"
   ]
  },
  {
   "cell_type": "code",
   "execution_count": 2,
   "id": "aware-nitrogen",
   "metadata": {},
   "outputs": [],
   "source": [
    "from model import BraggNN_MLP, BraggNN"
   ]
  },
  {
   "cell_type": "code",
   "execution_count": 3,
   "id": "numerous-birmingham",
   "metadata": {},
   "outputs": [
    {
     "data": {
      "text/plain": [
       "<All keys matched successfully>"
      ]
     },
     "execution_count": 3,
     "metadata": {},
     "output_type": "execute_result"
    }
   ],
   "source": [
    "# load a pre-trained model \n",
    "model  = BraggNN_MLP(fcsz=[200]) # should use the same argu as it in the training.\n",
    "mdl_fn = 'final.pth'\n",
    "model.load_state_dict(torch.load(mdl_fn, map_location=torch.device('cpu')))"
   ]
  },
  {
   "cell_type": "code",
   "execution_count": 4,
   "id": "a320446f-cc3f-4b49-868e-8eefeb6a3bc9",
   "metadata": {},
   "outputs": [
    {
     "data": {
      "text/plain": [
       "<All keys matched successfully>"
      ]
     },
     "execution_count": 4,
     "metadata": {},
     "output_type": "execute_result"
    }
   ],
   "source": [
    "# load a pre-trained model \n",
    "model_org  = BraggNN(imgsz=11, fcsz=(16, 8, 4, 2)) # should use the same argu as it in the training.\n",
    "mdl_fn = 'models/fc16_8_4_2-sz11.pth'\n",
    "model_org.load_state_dict(torch.load(mdl_fn, map_location=torch.device('cpu')))"
   ]
  },
  {
   "cell_type": "code",
   "execution_count": 5,
   "id": "a7a7253d-ad89-48e9-b4e2-73f4ed420893",
   "metadata": {},
   "outputs": [],
   "source": [
    "#load the data for braggNN\n",
    "def load_data():\n",
    "    ds_train = BraggNNDataset(psz=11, rnd_shift=1, use='train')\n",
    "    dl_train = DataLoader(dataset=ds_train, batch_size=1, shuffle=True,\\\n",
    "                          num_workers=8, prefetch_factor=1, drop_last=True, pin_memory=True)\n",
    "\n",
    "    ds_valid = BraggNNDataset(psz=11, rnd_shift=0, use='validation')\n",
    "    dl_valid = DataLoader(dataset=ds_valid, batch_size=1, shuffle=False, \\\n",
    "                      num_workers=8, prefetch_factor=1, drop_last=False, pin_memory=True)\n",
    "\n",
    "    return dl_train, dl_valid\n",
    "\n",
    "def load_data_large():\n",
    "    s_train = BraggNNDataset(psz=23, rnd_shift=1, use='train')\n",
    "    l_train = DataLoader(dataset=s_train, batch_size=1, shuffle=True,\\\n",
    "                          num_workers=8, prefetch_factor=1, drop_last=True, pin_memory=True)\n",
    "\n",
    "    s_valid = BraggNNDataset(psz=23, rnd_shift=0, use='validation')\n",
    "    l_valid = DataLoader(dataset=s_valid, batch_size=1, shuffle=False, \\\n",
    "                      num_workers=8, prefetch_factor=1, drop_last=False, pin_memory=True)\n",
    "\n",
    "    return l_train, l_valid"
   ]
  },
  {
   "cell_type": "code",
   "execution_count": 6,
   "id": "continuing-miami",
   "metadata": {},
   "outputs": [],
   "source": [
    "dl_train, dl_valid = load_data()\n",
    "#l_train, l_valid = load_data_large()\n",
    "device = torch.device(\"cuda\" if torch.cuda.is_available() else \"cpu\")\n",
    "pred_val = []\n",
    "gt_val = []\n",
    "y_val = []\n",
    "x_val = []\n",
    "\n",
    "count = 6\n",
    "for X_mb_val, y_mb_val in dl_valid:\n",
    "    with torch.no_grad():\n",
    "        if count > 0:\n",
    "            _pred = model.forward(X_mb_val.to(device))\n",
    "            pred_val.append(_pred.cpu().numpy())\n",
    "            gt_val.append(y_mb_val.numpy())\n",
    "            x_val.append(X_mb_val)\n",
    "            y_val.append(y_mb_val)\n",
    "            count = count-1\n",
    "\n",
    "pred_val = np.concatenate(pred_val, axis=0)\n",
    "gt_val = np.concatenate(gt_val,   axis=0)\n",
    "x_val = np.concatenate(x_val, axis=0)\n",
    "y_val = np.concatenate(y_val,   axis=0)"
   ]
  },
  {
   "cell_type": "code",
   "execution_count": 10,
   "id": "472992ac-93cf-467f-99b2-a5938014884d",
   "metadata": {},
   "outputs": [],
   "source": [
    "device = torch.device(\"cuda\" if torch.cuda.is_available() else \"cpu\")\n",
    "pred_v = []\n",
    "gt_v = []\n",
    "y_v = []\n",
    "x_v = []\n",
    "\n",
    "count = 6\n",
    "for X_mb_val, y_mb_val in dl_valid:\n",
    "    with torch.no_grad():\n",
    "        if count > 0:\n",
    "            _pred = model_org.forward(X_mb_val.to(device))\n",
    "            pred_v.append(_pred.cpu().numpy())\n",
    "            gt_v.append(y_mb_val.numpy())\n",
    "            x_v.append(X_mb_val)\n",
    "            y_v.append(y_mb_val)\n",
    "            count = count-1\n",
    "\n",
    "pred_v = np.concatenate(pred_v, axis=0)\n",
    "gt_v = np.concatenate(gt_v,   axis=0)\n",
    "x_v = np.concatenate(x_v, axis=0)\n",
    "y_v = np.concatenate(y_v,   axis=0)"
   ]
  },
  {
   "cell_type": "code",
   "execution_count": 17,
   "id": "60d502f4-6ac9-4c74-b380-121d6cbd649a",
   "metadata": {},
   "outputs": [
    {
     "name": "stdout",
     "output_type": "stream",
     "text": [
      "[[0.45189825 0.54617083]\n",
      " [0.54338604 0.5276473 ]\n",
      " [0.469887   0.4706816 ]\n",
      " [0.5378106  0.46063843]\n",
      " [0.4602644  0.54466224]\n",
      " [0.5669163  0.5048448 ]]\n"
     ]
    },
    {
     "data": {
      "image/png": "[encoded data removed]",
      "text/plain": [
       "<Figure size 432x288 with 1 Axes>"
      ]
     },
     "metadata": {},
     "output_type": "display_data"
    },
    {
     "data": {
      "image/png": "[encoded data removed]",
      "text/plain": [
       "<Figure size 432x288 with 1 Axes>"
      ]
     },
     "metadata": {},
     "output_type": "display_data"
    },
    {
     "data": {
      "image/png": "[encoded data removed]",
      "text/plain": [
       "<Figure size 432x288 with 1 Axes>"
      ]
     },
     "metadata": {},
     "output_type": "display_data"
    },
    {
     "data": {
      "image/png": "[encoded data removed]",
      "text/plain": [
       "<Figure size 432x288 with 1 Axes>"
      ]
     },
     "metadata": {},
     "output_type": "display_data"
    },
    {
     "data": {
      "image/png": "[encoded data removed]",
      "text/plain": [
       "<Figure size 432x288 with 1 Axes>"
      ]
     },
     "metadata": {},
     "output_type": "display_data"
    },
    {
     "data": {
      "image/png": "[encoded data removed]",
      "text/plain": [
       "<Figure size 432x288 with 1 Axes>"
      ]
     },
     "metadata": {},
     "output_type": "display_data"
    }
   ],
   "source": [
    "from scipy.ndimage import gaussian_filter\n",
    "from skimage import transform\n",
    "#fig, axs = plt.subplots(2, sharex=True, sharey=True)\n",
    "print(pred_v)\n",
    "count = 6\n",
    "mult = 20\n",
    "for i in range(count):\n",
    "    #img = transform.rescale(x_val[i,0,:], 5)\n",
    "    plt.figure()\n",
    "    img = transform.resize(x_val[i,0,:], (mult, mult))\n",
    "    img = gaussian_filter(img, sigma=1, order=0)\n",
    "    plt.xticks([])\n",
    "    plt.yticks([])\n",
    "    plt.imshow(img, cmap='seismic')\n",
    "    #plt.plot(pred_val[i], marker='+')\n",
    "    #plt.plot(pred_val[i][0]*55, pred_val[i][1]*55, marker='+', color='white')\n",
    "    plt.vlines(x=pred_val[i][0]*mult, ymin=(pred_val[i][1]*mult)-5, ymax=(pred_val[i][1]*mult)+5, color='purple',linestyle = ':',linewidth = 2)\n",
    "    plt.hlines(xmin=pred_val[i][0]*mult+5, xmax=(pred_val[i][0]*mult)-5, y=pred_val[i][1]*mult, color='purple',linestyle = ':',linewidth = 2)\n",
    "    plt.vlines(x=pred_v[i][0]*mult, ymin=(pred_v[i][1]*mult)-5, ymax=(pred_v[i][1]*mult)+5, color='yellow',linestyle = '--',linewidth = 2)\n",
    "    plt.hlines(xmin=pred_v[i][0]*mult+5, xmax=(pred_v[i][0]*mult)-5, y=pred_v[i][1]*mult, color='yellow',linestyle = '--',linewidth = 2)\n",
    "    plt.savefig(\"./model_output/pdf/test\"+str(i)+\".pdf\", dpi=200)\n",
    "\n",
    "#plt.imshow(X_val, cmap='seismic')\n",
    "plt.show(); \n",
    "#plt.savefig(\"test.jpg\")\n",
    "plt.close()"
   ]
  },
  {
   "cell_type": "code",
   "execution_count": null,
   "id": "fda70f5f-49a2-4e61-a625-d61f3d9fe7b9",
   "metadata": {},
   "outputs": [],
   "source": [
    "print(pred_val)"
   ]
  },
  {
   "cell_type": "code",
   "execution_count": null,
   "id": "transsexual-venture",
   "metadata": {},
   "outputs": [],
   "source": [
    "input_tensor = torch.from_numpy(X_test[np.newaxis, np.newaxis].astype('float32'))\n",
    "with torch.no_grad():\n",
    "    pred = model.forward(input_tensor).cpu().numpy()"
   ]
  },
  {
   "cell_type": "code",
   "execution_count": null,
   "id": "comprehensive-reggae",
   "metadata": {},
   "outputs": [],
   "source": [
    "# scale back peak location by multiply with patch size\n",
    "pred * 11"
   ]
  },
  {
   "cell_type": "code",
   "execution_count": null,
   "id": "legal-moldova",
   "metadata": {},
   "outputs": [],
   "source": []
  }
 ],
 "metadata": {
  "kernelspec": {
   "display_name": "Python 3 (ipykernel)",
   "language": "python",
   "name": "python3"
  },
  "language_info": {
   "codemirror_mode": {
    "name": "ipython",
    "version": 3
   },
   "file_extension": ".py",
   "mimetype": "text/x-python",
   "name": "python",
   "nbconvert_exporter": "python",
   "pygments_lexer": "ipython3",
   "version": "3.8.18"
  }
 },
 "nbformat": 4,
 "nbformat_minor": 5
}
